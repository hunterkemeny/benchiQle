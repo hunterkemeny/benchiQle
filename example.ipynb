{
 "cells": [
  {
   "cell_type": "code",
   "execution_count": 5,
   "metadata": {},
   "outputs": [],
   "source": [
    "from runner import Runner\n",
    "import sys\n",
    "from qiskit import *\n",
    "from qiskit.providers.fake_provider import FakeWashingtonV2"
   ]
  },
  {
   "cell_type": "code",
   "execution_count": 7,
   "metadata": {},
   "outputs": [
    {
     "name": "stderr",
     "output_type": "stream",
     "text": [
      "Running benchmark 1 of 2...\n",
      "Calculating memory footprint...\n"
     ]
    },
    {
     "name": "stdout",
     "output_type": "stream",
     "text": [
      "Filename: /Users/hunterkemeny/Desktop/benchiQle/runner.py\n",
      "\n",
      "Line #    Mem usage    Increment  Occurrences   Line Contents\n",
      "=============================================================\n",
      "   247    219.7 MiB    219.7 MiB           1       @profile\n",
      "   248                                             def transpile_in_process(self, benchmark, optimization_level):\n",
      "   249    219.7 MiB      0.0 MiB           1           if self.compiler_dict[\"compiler\"] == \"tket\":\n",
      "   250                                                     tket_pm = self.initialize_tket_pass_manager()\n",
      "   251                                                     qc = qiskit_to_tk(benchmark)\n",
      "   252                                                     tket_pm.apply(qc)\n",
      "   253                                                     transpiled_circuit = tk_to_qiskit(qc)\n",
      "   254                                                 else:\n",
      "   255                                                     # TODO: Determine why we cannot use the backend from the constructor here (self.backend throwing error)\n",
      "   256    242.6 MiB     22.9 MiB           1               transpiled_circuit = transpile(benchmark, backend=FakeWashingtonV2(), optimization_level=optimization_level) # TODO: add generality for compilers with compiler_dict\n",
      "   257    242.6 MiB      0.0 MiB           1           return transpiled_circuit\n",
      "\n",
      "\n"
     ]
    },
    {
     "ename": "IndexError",
     "evalue": "list index out of range",
     "output_type": "error",
     "traceback": [
      "\u001b[0;31m---------------------------------------------------------------------------\u001b[0m",
      "\u001b[0;31mIndexError\u001b[0m                                Traceback (most recent call last)",
      "\u001b[1;32m/Users/hunterkemeny/Desktop/benchiQle/example.ipynb Cell 2\u001b[0m line \u001b[0;36m6\n\u001b[1;32m      <a href='vscode-notebook-cell:/Users/hunterkemeny/Desktop/benchiQle/example.ipynb#W1sZmlsZQ%3D%3D?line=0'>1</a>\u001b[0m runner \u001b[39m=\u001b[39m Runner([\u001b[39m\"\u001b[39m\u001b[39mEfficientSU2\u001b[39m\u001b[39m\"\u001b[39m], \n\u001b[1;32m      <a href='vscode-notebook-cell:/Users/hunterkemeny/Desktop/benchiQle/example.ipynb#W1sZmlsZQ%3D%3D?line=1'>2</a>\u001b[0m                     [\u001b[39m\"\u001b[39m\u001b[39mdepth (gates)\u001b[39m\u001b[39m\"\u001b[39m, \u001b[39m\"\u001b[39m\u001b[39mtotal_time (seconds)\u001b[39m\u001b[39m\"\u001b[39m, \u001b[39m\"\u001b[39m\u001b[39mbuild_time (seconds)\u001b[39m\u001b[39m\"\u001b[39m, \u001b[39m\"\u001b[39m\u001b[39mbind_time (seconds)\u001b[39m\u001b[39m\"\u001b[39m, \u001b[39m\"\u001b[39m\u001b[39mtranspile_time (seconds)\u001b[39m\u001b[39m\"\u001b[39m, \u001b[39m\"\u001b[39m\u001b[39mmemory_footprint (MiB)\u001b[39m\u001b[39m\"\u001b[39m], \n\u001b[1;32m      <a href='vscode-notebook-cell:/Users/hunterkemeny/Desktop/benchiQle/example.ipynb#W1sZmlsZQ%3D%3D?line=2'>3</a>\u001b[0m                     {\u001b[39m\"\u001b[39m\u001b[39mcompiler\u001b[39m\u001b[39m\"\u001b[39m: \u001b[39m\"\u001b[39m\u001b[39mqiskit\u001b[39m\u001b[39m\"\u001b[39m, \u001b[39m\"\u001b[39m\u001b[39mversion\u001b[39m\u001b[39m\"\u001b[39m: \u001b[39m\"\u001b[39m\u001b[39m0.45\u001b[39m\u001b[39m\"\u001b[39m, \u001b[39m\"\u001b[39m\u001b[39moptimization_level\u001b[39m\u001b[39m\"\u001b[39m: \u001b[39m0\u001b[39m}, \u001b[39m# \"version\": str(sys.argv[1]),\u001b[39;00m\n\u001b[1;32m      <a href='vscode-notebook-cell:/Users/hunterkemeny/Desktop/benchiQle/example.ipynb#W1sZmlsZQ%3D%3D?line=3'>4</a>\u001b[0m                     FakeWashingtonV2(),\n\u001b[1;32m      <a href='vscode-notebook-cell:/Users/hunterkemeny/Desktop/benchiQle/example.ipynb#W1sZmlsZQ%3D%3D?line=4'>5</a>\u001b[0m                     \u001b[39m2\u001b[39m)\n\u001b[0;32m----> <a href='vscode-notebook-cell:/Users/hunterkemeny/Desktop/benchiQle/example.ipynb#W1sZmlsZQ%3D%3D?line=5'>6</a>\u001b[0m runner\u001b[39m.\u001b[39;49mrun_benchmarks()\n",
      "File \u001b[0;32m~/Desktop/benchiQle/runner.py:239\u001b[0m, in \u001b[0;36mRunner.run_benchmarks\u001b[0;34m(self)\u001b[0m\n\u001b[1;32m    237\u001b[0m \u001b[39mfor\u001b[39;00m _ \u001b[39min\u001b[39;00m \u001b[39mrange\u001b[39m(\u001b[39mself\u001b[39m\u001b[39m.\u001b[39mnum_runs):\n\u001b[1;32m    238\u001b[0m     logger\u001b[39m.\u001b[39minfo(\u001b[39m\"\u001b[39m\u001b[39mRunning benchmark \u001b[39m\u001b[39m\"\u001b[39m \u001b[39m+\u001b[39m \u001b[39mstr\u001b[39m(logger_counter) \u001b[39m+\u001b[39m \u001b[39m\"\u001b[39m\u001b[39m of \u001b[39m\u001b[39m\"\u001b[39m \u001b[39m+\u001b[39m \u001b[39mstr\u001b[39m(\u001b[39mself\u001b[39m\u001b[39m.\u001b[39mnum_runs\u001b[39m*\u001b[39m\u001b[39mlen\u001b[39m(\u001b[39mself\u001b[39m\u001b[39m.\u001b[39mfull_benchmark_list)) \u001b[39m+\u001b[39m \u001b[39m\"\u001b[39m\u001b[39m...\u001b[39m\u001b[39m\"\u001b[39m)\n\u001b[0;32m--> 239\u001b[0m     \u001b[39mself\u001b[39;49m\u001b[39m.\u001b[39;49mrun_benchmark(benchmark, metrics)\n\u001b[1;32m    240\u001b[0m     logger_counter \u001b[39m+\u001b[39m\u001b[39m=\u001b[39m \u001b[39m1\u001b[39m\n\u001b[1;32m    242\u001b[0m \u001b[39mself\u001b[39m\u001b[39m.\u001b[39mpostprocess_metrics(benchmark)\n",
      "File \u001b[0;32m~/Desktop/benchiQle/runner.py:297\u001b[0m, in \u001b[0;36mRunner.run_benchmark\u001b[0;34m(self, benchmark, metrics)\u001b[0m\n\u001b[1;32m    294\u001b[0m \u001b[39mself\u001b[39m\u001b[39m.\u001b[39mprofile_func(benchmark_circuit)\n\u001b[1;32m    295\u001b[0m \u001b[39m# Replace this with the path to your file\u001b[39;00m\n\u001b[0;32m--> 297\u001b[0m filename \u001b[39m=\u001b[39m \u001b[39mf\u001b[39m\u001b[39m'\u001b[39m\u001b[39mmemory_\u001b[39m\u001b[39m{\u001b[39;00m\u001b[39mstr\u001b[39m(sys\u001b[39m.\u001b[39margv[\u001b[39m1\u001b[39m])\u001b[39m}\u001b[39;00m\u001b[39m_\u001b[39m\u001b[39m{\u001b[39;00m\u001b[39mstr\u001b[39m(sys\u001b[39m.\u001b[39margv[\u001b[39m2\u001b[39m])\u001b[39m}\u001b[39;00m\u001b[39m.txt\u001b[39m\u001b[39m'\u001b[39m\n\u001b[1;32m    298\u001b[0m \u001b[39m# Replace this with the line you are targeting\u001b[39;00m\n\u001b[1;32m    299\u001b[0m \u001b[39mif\u001b[39;00m \u001b[39mself\u001b[39m\u001b[39m.\u001b[39mcompiler_dict[\u001b[39m\"\u001b[39m\u001b[39mcompiler\u001b[39m\u001b[39m\"\u001b[39m] \u001b[39m==\u001b[39m \u001b[39m\"\u001b[39m\u001b[39mtket\u001b[39m\u001b[39m\"\u001b[39m:\n",
      "\u001b[0;31mIndexError\u001b[0m: list index out of range"
     ]
    }
   ],
   "source": [
    "runner = Runner([\"EfficientSU2\"], \n",
    "                    [\"depth (gates)\", \"total_time (seconds)\", \"build_time (seconds)\", \"bind_time (seconds)\", \"transpile_time (seconds)\", \"memory_footprint (MiB)\"], \n",
    "                    {\"compiler\": \"qiskit\", \"version\": \"0.45\", \"optimization_level\": 0}, # \"version\": str(sys.argv[1]),\n",
    "                    FakeWashingtonV2(),\n",
    "                    2)\n",
    "runner.run_benchmarks()"
   ]
  },
  {
   "cell_type": "code",
   "execution_count": null,
   "metadata": {},
   "outputs": [],
   "source": []
  }
 ],
 "metadata": {
  "kernelspec": {
   "display_name": "qiskit-dev",
   "language": "python",
   "name": "python3"
  },
  "language_info": {
   "codemirror_mode": {
    "name": "ipython",
    "version": 3
   },
   "file_extension": ".py",
   "mimetype": "text/x-python",
   "name": "python",
   "nbconvert_exporter": "python",
   "pygments_lexer": "ipython3",
   "version": "3.9.6"
  }
 },
 "nbformat": 4,
 "nbformat_minor": 2
}
